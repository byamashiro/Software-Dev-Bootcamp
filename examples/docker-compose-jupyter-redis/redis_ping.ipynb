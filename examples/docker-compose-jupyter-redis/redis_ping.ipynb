{
 "cells": [
  {
   "cell_type": "code",
   "execution_count": null,
   "id": "ca991671-9726-4395-85d8-ec667649342b",
   "metadata": {},
   "outputs": [
    {
     "name": "stdout",
     "output_type": "stream",
     "text": [
      "Consumer is starting...\n",
      "Consumer received: 'Message sent at 1758055664.062531'\n",
      "Consumer received: 'Message sent at 1758055669.0630326'\n",
      "Consumer received: 'Message sent at 1758055674.0635798'\n",
      "Consumer received: 'Message sent at 1758055679.0640368'\n",
      "Consumer received: 'Message sent at 1758055684.0645335'\n",
      "Consumer received: 'Message sent at 1758055689.0650759'\n",
      "Consumer received: 'Message sent at 1758055694.0639076'\n",
      "Consumer received: 'Message sent at 1758055699.06442'\n",
      "Consumer received: 'Message sent at 1758055704.0649407'\n",
      "Consumer received: 'Message sent at 1758055709.065447'\n",
      "Consumer received: 'Message sent at 1758055714.06598'\n",
      "Consumer received: 'Message sent at 1758055719.0664895'\n",
      "Consumer received: 'Message sent at 1758055724.0666099'\n",
      "Consumer received: 'Message sent at 1758055729.067176'\n",
      "Consumer received: 'Message sent at 1758055734.067712'\n",
      "Consumer received: 'Message sent at 1758055739.0682454'\n",
      "Consumer received: 'Message sent at 1758055744.068741'\n",
      "Consumer received: 'Message sent at 1758055749.0692415'\n",
      "Consumer received: 'Message sent at 1758055754.0685365'\n",
      "Consumer received: 'Message sent at 1758055759.0690746'\n",
      "Consumer received: 'Message sent at 1758055764.0696208'\n",
      "Consumer received: 'Message sent at 1758055769.070157'\n",
      "Consumer received: 'Message sent at 1758055774.0706837'\n"
     ]
    }
   ],
   "source": [
    "import redis\n",
    "import time\n",
    "\n",
    "r = redis.Redis(host='redis', port=6379, db=0)\n",
    "\n",
    "print(\"Consumer is starting...\")\n",
    "while True:\n",
    "    message = r.get('latest_message')\n",
    "    if message:\n",
    "        print(f\"Consumer received: '{message.decode('utf-8')}'\")\n",
    "    else:\n",
    "        print(\"Consumer received: No message yet.\")\n",
    "    time.sleep(5)"
   ]
  },
  {
   "cell_type": "code",
   "execution_count": null,
   "id": "4699cebc-8e62-414f-a37a-c744a61bd698",
   "metadata": {},
   "outputs": [],
   "source": []
  }
 ],
 "metadata": {
  "kernelspec": {
   "display_name": "Python 3 (ipykernel)",
   "language": "python",
   "name": "python3"
  },
  "language_info": {
   "codemirror_mode": {
    "name": "ipython",
    "version": 3
   },
   "file_extension": ".py",
   "mimetype": "text/x-python",
   "name": "python",
   "nbconvert_exporter": "python",
   "pygments_lexer": "ipython3",
   "version": "3.12.11"
  }
 },
 "nbformat": 4,
 "nbformat_minor": 5
}
