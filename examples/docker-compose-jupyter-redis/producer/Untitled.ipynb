{
 "cells": [
  {
   "cell_type": "code",
   "execution_count": null,
   "id": "6c2db6f8-a55e-4642-a094-2aff4ffdc5b4",
   "metadata": {},
   "outputs": [
    {
     "name": "stdout",
     "output_type": "stream",
     "text": [
      "Consumer is starting...\n",
      "Consumer received: No message yet.\n",
      "Consumer received: No message yet.\n",
      "Consumer received: No message yet.\n",
      "Consumer received: No message yet.\n",
      "Consumer received: No message yet.\n",
      "Consumer received: No message yet.\n",
      "Consumer received: No message yet.\n",
      "Consumer received: No message yet.\n",
      "Consumer received: No message yet.\n",
      "Consumer received: No message yet.\n",
      "Consumer received: No message yet.\n",
      "Consumer received: No message yet.\n",
      "Consumer received: No message yet.\n",
      "Consumer received: No message yet.\n",
      "Consumer received: No message yet.\n",
      "Consumer received: No message yet.\n",
      "Consumer received: No message yet.\n",
      "Consumer received: No message yet.\n",
      "Consumer received: No message yet.\n",
      "Consumer received: No message yet.\n",
      "Consumer received: No message yet.\n",
      "Consumer received: No message yet.\n",
      "Consumer received: No message yet.\n",
      "Consumer received: No message yet.\n"
     ]
    }
   ],
   "source": [
    "import redis\n",
    "import time\n",
    "\n",
    "r = redis.Redis(host='redis', port=6379, db=0)\n",
    "\n",
    "print(\"Consumer is starting...\")\n",
    "while True:\n",
    "    message = r.get('latest_message')\n",
    "    if message:\n",
    "        print(f\"Consumer received: '{message.decode('utf-8')}'\")\n",
    "    else:\n",
    "        print(\"Consumer received: No message yet.\")\n",
    "    time.sleep(5)"
   ]
  },
  {
   "cell_type": "code",
   "execution_count": null,
   "id": "37fac160-184d-43db-a5c4-e4b2e8c75af2",
   "metadata": {},
   "outputs": [],
   "source": []
  }
 ],
 "metadata": {
  "kernelspec": {
   "display_name": "Python 3 (ipykernel)",
   "language": "python",
   "name": "python3"
  },
  "language_info": {
   "codemirror_mode": {
    "name": "ipython",
    "version": 3
   },
   "file_extension": ".py",
   "mimetype": "text/x-python",
   "name": "python",
   "nbconvert_exporter": "python",
   "pygments_lexer": "ipython3",
   "version": "3.12.11"
  }
 },
 "nbformat": 4,
 "nbformat_minor": 5
}
