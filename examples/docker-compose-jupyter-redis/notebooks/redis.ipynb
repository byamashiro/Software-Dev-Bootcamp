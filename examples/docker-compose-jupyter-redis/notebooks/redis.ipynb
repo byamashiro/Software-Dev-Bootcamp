{
 "cells": [
  {
   "cell_type": "code",
   "execution_count": 1,
   "id": "c0fa1526-1dca-497e-8f3c-e44531e70238",
   "metadata": {},
   "outputs": [
    {
     "name": "stdout",
     "output_type": "stream",
     "text": [
      "Key 'student_name' set in Redis.\n",
      "Retrieved value for 'student_name': Alex\n"
     ]
    }
   ],
   "source": [
    "import redis\n",
    "\n",
    "# Use the service name 'redis' and the default Redis port\n",
    "r = redis.Redis(host='redis', port=6379, db=0)\n",
    "\n",
    "# Set a key-value pair in Redis\n",
    "r.set('student_name', 'Alex')\n",
    "print(\"Key 'student_name' set in Redis.\")\n",
    "\n",
    "# Retrieve the value from Redis\n",
    "retrieved_value = r.get('student_name')\n",
    "\n",
    "# Decode the value from bytes to a string for printing\n",
    "if retrieved_value:\n",
    "    print(f\"Retrieved value for 'student_name': {retrieved_value.decode('utf-8')}\")\n",
    "else:\n",
    "    print(\"Key 'student_name' not found.\")"
   ]
  },
  {
   "cell_type": "code",
   "execution_count": null,
   "id": "9453299e-e31e-4f5e-9e0b-542f4b52e89e",
   "metadata": {},
   "outputs": [],
   "source": []
  }
 ],
 "metadata": {
  "kernelspec": {
   "display_name": "Python 3 (ipykernel)",
   "language": "python",
   "name": "python3"
  },
  "language_info": {
   "codemirror_mode": {
    "name": "ipython",
    "version": 3
   },
   "file_extension": ".py",
   "mimetype": "text/x-python",
   "name": "python",
   "nbconvert_exporter": "python",
   "pygments_lexer": "ipython3",
   "version": "3.12.11"
  }
 },
 "nbformat": 4,
 "nbformat_minor": 5
}
